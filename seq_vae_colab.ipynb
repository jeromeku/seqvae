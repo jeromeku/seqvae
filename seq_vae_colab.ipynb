{
 "cells": [
  {
   "cell_type": "code",
   "execution_count": 1,
   "metadata": {
    "colab": {},
    "colab_type": "code",
    "id": "FKTCmMfZdJUW"
   },
   "outputs": [],
   "source": [
    "from collections import namedtuple\n",
    "from datetime import datetime\n",
    "import matplotlib.pyplot as plt\n",
    "import numpy as np\n",
    "import os\n",
    "import sys\n"
   ]
  },
  {
   "cell_type": "code",
   "execution_count": 2,
   "metadata": {
    "colab": {
     "base_uri": "https://localhost:8080/",
     "height": 496
    },
    "colab_type": "code",
    "executionInfo": {
     "elapsed": 6097,
     "status": "ok",
     "timestamp": 1571320155767,
     "user": {
      "displayName": "Jerome Ku",
      "photoUrl": "",
      "userId": "15659096259355675214"
     },
     "user_tz": 420
    },
    "id": "rdOrvh8lZMD3",
    "outputId": "472d1d1b-2d14-4048-c95f-1f5cde1d4d06"
   },
   "outputs": [
    {
     "name": "stdout",
     "output_type": "stream",
     "text": [
      "Requirement already up-to-date: tensorflow-gpu in /usr/local/lib/python3.6/dist-packages (2.0.0)\n",
      "Requirement already satisfied, skipping upgrade: wheel>=0.26 in /usr/local/lib/python3.6/dist-packages (from tensorflow-gpu) (0.33.6)\n",
      "Requirement already satisfied, skipping upgrade: protobuf>=3.6.1 in /usr/local/lib/python3.6/dist-packages (from tensorflow-gpu) (3.7.1)\n",
      "Requirement already satisfied, skipping upgrade: wrapt>=1.11.1 in /usr/local/lib/python3.6/dist-packages (from tensorflow-gpu) (1.11.2)\n",
      "Requirement already satisfied, skipping upgrade: grpcio>=1.8.6 in /usr/local/lib/python3.6/dist-packages (from tensorflow-gpu) (1.15.0)\n",
      "Requirement already satisfied, skipping upgrade: keras-preprocessing>=1.0.5 in /usr/local/lib/python3.6/dist-packages (from tensorflow-gpu) (1.1.0)\n",
      "Requirement already satisfied, skipping upgrade: numpy<2.0,>=1.16.0 in /usr/local/lib/python3.6/dist-packages (from tensorflow-gpu) (1.16.5)\n",
      "Requirement already satisfied, skipping upgrade: astor>=0.6.0 in /usr/local/lib/python3.6/dist-packages (from tensorflow-gpu) (0.8.0)\n",
      "Requirement already satisfied, skipping upgrade: absl-py>=0.7.0 in /usr/local/lib/python3.6/dist-packages (from tensorflow-gpu) (0.8.0)\n",
      "Requirement already satisfied, skipping upgrade: opt-einsum>=2.3.2 in /usr/local/lib/python3.6/dist-packages (from tensorflow-gpu) (3.1.0)\n",
      "Requirement already satisfied, skipping upgrade: keras-applications>=1.0.8 in /usr/local/lib/python3.6/dist-packages (from tensorflow-gpu) (1.0.8)\n",
      "Requirement already satisfied, skipping upgrade: gast==0.2.2 in /usr/local/lib/python3.6/dist-packages (from tensorflow-gpu) (0.2.2)\n",
      "Requirement already satisfied, skipping upgrade: tensorflow-estimator<2.1.0,>=2.0.0 in /usr/local/lib/python3.6/dist-packages (from tensorflow-gpu) (2.0.0)\n",
      "Requirement already satisfied, skipping upgrade: termcolor>=1.1.0 in /usr/local/lib/python3.6/dist-packages (from tensorflow-gpu) (1.1.0)\n",
      "Requirement already satisfied, skipping upgrade: six>=1.10.0 in /usr/local/lib/python3.6/dist-packages (from tensorflow-gpu) (1.12.0)\n",
      "Requirement already satisfied, skipping upgrade: tensorboard<2.1.0,>=2.0.0 in /usr/local/lib/python3.6/dist-packages (from tensorflow-gpu) (2.0.0)\n",
      "Requirement already satisfied, skipping upgrade: google-pasta>=0.1.6 in /usr/local/lib/python3.6/dist-packages (from tensorflow-gpu) (0.1.7)\n",
      "Requirement already satisfied, skipping upgrade: setuptools in /usr/local/lib/python3.6/dist-packages (from protobuf>=3.6.1->tensorflow-gpu) (41.2.0)\n",
      "Requirement already satisfied, skipping upgrade: h5py in /usr/local/lib/python3.6/dist-packages (from keras-applications>=1.0.8->tensorflow-gpu) (2.8.0)\n",
      "Requirement already satisfied, skipping upgrade: werkzeug>=0.11.15 in /usr/local/lib/python3.6/dist-packages (from tensorboard<2.1.0,>=2.0.0->tensorflow-gpu) (0.16.0)\n",
      "Requirement already satisfied, skipping upgrade: markdown>=2.6.8 in /usr/local/lib/python3.6/dist-packages (from tensorboard<2.1.0,>=2.0.0->tensorflow-gpu) (3.1.1)\n",
      "Requirement already up-to-date: tensorflow_probability in /usr/local/lib/python3.6/dist-packages (0.8.0)\n",
      "Requirement already satisfied, skipping upgrade: decorator in /usr/local/lib/python3.6/dist-packages (from tensorflow_probability) (4.4.0)\n",
      "Requirement already satisfied, skipping upgrade: numpy>=1.13.3 in /usr/local/lib/python3.6/dist-packages (from tensorflow_probability) (1.16.5)\n",
      "Requirement already satisfied, skipping upgrade: cloudpickle==1.1.1 in /usr/local/lib/python3.6/dist-packages (from tensorflow_probability) (1.1.1)\n",
      "Requirement already satisfied, skipping upgrade: gast<0.3,>=0.2 in /usr/local/lib/python3.6/dist-packages (from tensorflow_probability) (0.2.2)\n",
      "Requirement already satisfied, skipping upgrade: six>=1.10.0 in /usr/local/lib/python3.6/dist-packages (from tensorflow_probability) (1.12.0)\n"
     ]
    }
   ],
   "source": [
    "!pip install -U tensorflow-gpu\n",
    "!pip install -U tensorflow_probability"
   ]
  },
  {
   "cell_type": "code",
   "execution_count": 2,
   "metadata": {
    "colab": {},
    "colab_type": "code",
    "id": "IDS0Mn1TZdRW"
   },
   "outputs": [
    {
     "name": "stdout",
     "output_type": "stream",
     "text": [
      "The autoreload extension is already loaded. To reload it, use:\n",
      "  %reload_ext autoreload\n"
     ]
    }
   ],
   "source": [
    "import tensorflow as tf\n",
    "import tensorflow_probability as tfp\n",
    "tfd = tfp.distributions\n",
    "\n",
    "%load_ext autoreload\n",
    "%load_ext tensorboard\n",
    "\n",
    "%autoreload 2"
   ]
  },
  {
   "cell_type": "code",
   "execution_count": 3,
   "metadata": {
    "colab": {
     "base_uri": "https://localhost:8080/",
     "height": 318
    },
    "colab_type": "code",
    "executionInfo": {
     "elapsed": 678,
     "status": "ok",
     "timestamp": 1571320163844,
     "user": {
      "displayName": "Jerome Ku",
      "photoUrl": "",
      "userId": "15659096259355675214"
     },
     "user_tz": 420
    },
    "id": "-oCnxLDtnPdn",
    "outputId": "19ce1ab7-f5a5-4f17-dfaf-43d480481e9d"
   },
   "outputs": [
    {
     "name": "stdout",
     "output_type": "stream",
     "text": [
      "Thu Oct 17 14:07:00 2019       \n",
      "+-----------------------------------------------------------------------------+\n",
      "| NVIDIA-SMI 418.39       Driver Version: 418.39       CUDA Version: 10.1     |\n",
      "|-------------------------------+----------------------+----------------------+\n",
      "| GPU  Name        Persistence-M| Bus-Id        Disp.A | Volatile Uncorr. ECC |\n",
      "| Fan  Temp  Perf  Pwr:Usage/Cap|         Memory-Usage | GPU-Util  Compute M. |\n",
      "|===============================+======================+======================|\n",
      "|   0  GeForce GTX 1070    Off  | 00000000:02:00.0  On |                  N/A |\n",
      "|  0%   45C    P8    13W / 180W |   3470MiB /  8111MiB |      4%      Default |\n",
      "+-------------------------------+----------------------+----------------------+\n",
      "|   1  GeForce GTX 1080    Off  | 00000000:04:00.0 Off |                  N/A |\n",
      "|  0%   39C    P8    10W / 240W |    117MiB /  8119MiB |      0%      Default |\n",
      "+-------------------------------+----------------------+----------------------+\n",
      "                                                                               \n",
      "+-----------------------------------------------------------------------------+\n",
      "| Processes:                                                       GPU Memory |\n",
      "|  GPU       PID   Type   Process name                             Usage      |\n",
      "|=============================================================================|\n",
      "|    0      1932      G   /usr/lib/xorg/Xorg                          2633MiB |\n",
      "|    0      4256      G   compiz                                       228MiB |\n",
      "|    0      5856      G   ...quest-channel-token=2060769103087579268   293MiB |\n",
      "|    0      7868      C   /home/jeromeku/miniconda3/bin/python          83MiB |\n",
      "|    0     11439      G   /usr/bin/vlc                                  95MiB |\n",
      "|    0     17855      G   ...uest-channel-token=16141749682434956010    31MiB |\n",
      "|    0     18617      G   /snap/vlc/1049/usr/bin/vlc                    53MiB |\n",
      "|    0     21441      G   ...quest-channel-token=1827438075631690996    43MiB |\n",
      "|    1      7868      C   /home/jeromeku/miniconda3/bin/python         105MiB |\n",
      "+-----------------------------------------------------------------------------+\n"
     ]
    }
   ],
   "source": [
    "!nvidia-smi"
   ]
  },
  {
   "cell_type": "code",
   "execution_count": 4,
   "metadata": {
    "colab": {
     "base_uri": "https://localhost:8080/",
     "height": 34
    },
    "colab_type": "code",
    "executionInfo": {
     "elapsed": 502,
     "status": "ok",
     "timestamp": 1571320168454,
     "user": {
      "displayName": "Jerome Ku",
      "photoUrl": "",
      "userId": "15659096259355675214"
     },
     "user_tz": 420
    },
    "id": "1Sz7lGmi2E5R",
    "outputId": "efbd5a9d-524f-413e-ed49-f3eb8bd6cd11"
   },
   "outputs": [
    {
     "name": "stdout",
     "output_type": "stream",
     "text": [
      "2.0.0\n"
     ]
    }
   ],
   "source": [
    "print(tf.__version__)"
   ]
  },
  {
   "cell_type": "code",
   "execution_count": 6,
   "metadata": {
    "colab": {
     "base_uri": "https://localhost:8080/",
     "height": 34
    },
    "colab_type": "code",
    "executionInfo": {
     "elapsed": 1247,
     "status": "ok",
     "timestamp": 1571320194283,
     "user": {
      "displayName": "Jerome Ku",
      "photoUrl": "",
      "userId": "15659096259355675214"
     },
     "user_tz": 420
    },
    "id": "t-NOL_yLA-AZ",
    "outputId": "6b031029-199d-43f6-cbe6-f3c5252075b1"
   },
   "outputs": [],
   "source": [
    "project_id = 'research-256112'\n",
    "bucket_name = 'gs://jeromeku-seqvae-colab'\n",
    "!gcloud config set project {project_id}"
   ]
  },
  {
   "cell_type": "code",
   "execution_count": null,
   "metadata": {
    "colab": {},
    "colab_type": "code",
    "id": "90zDawD9BN4Y"
   },
   "outputs": [],
   "source": [
    "def authenticate():\n",
    "  from google.colab import auth\n",
    "  auth.authenticate_user()"
   ]
  },
  {
   "cell_type": "code",
   "execution_count": null,
   "metadata": {
    "colab": {},
    "colab_type": "code",
    "id": "Js4llURSBdlF"
   },
   "outputs": [],
   "source": [
    "authenticate()"
   ]
  },
  {
   "cell_type": "code",
   "execution_count": 7,
   "metadata": {
    "colab": {
     "base_uri": "https://localhost:8080/",
     "height": 87
    },
    "colab_type": "code",
    "executionInfo": {
     "elapsed": 9740,
     "status": "ok",
     "timestamp": 1571320218885,
     "user": {
      "displayName": "Jerome Ku",
      "photoUrl": "",
      "userId": "15659096259355675214"
     },
     "user_tz": 420
    },
    "id": "rjiTCBc_BmBw",
    "outputId": "e1bfb789-58d0-4ba2-82fe-2639dcd622c0"
   },
   "outputs": [
    {
     "name": "stdout",
     "output_type": "stream",
     "text": [
      "Copying gs://jeromeku-seqvae-colab/test.npz...\n",
      "Copying gs://jeromeku-seqvae-colab/train.npz...\n",
      "- [2/2 files][486.3 MiB/486.3 MiB] 100% Done   8.8 MiB/s ETA 00:00:00           \n",
      "Operation completed over 2 objects/486.3 MiB.                                    \n"
     ]
    }
   ],
   "source": [
    "def extract_array(npz):\n",
    "  return np.stack([t for t in npz.values()], axis=0) \n",
    "\n",
    "!gsutil -m cp {bucket_name}/*.npz  .\n",
    "train = extract_array(np.load('./train.npz'))\n",
    "test = extract_array(np.load('./test.npz'))\n",
    "\n",
    "train_ds, test_ds = map(tf.data.Dataset.from_tensor_slices, [train, test])"
   ]
  },
  {
   "cell_type": "code",
   "execution_count": 8,
   "metadata": {
    "colab": {
     "base_uri": "https://localhost:8080/",
     "height": 86
    },
    "colab_type": "code",
    "executionInfo": {
     "elapsed": 636,
     "status": "ok",
     "timestamp": 1571320221452,
     "user": {
      "displayName": "Jerome Ku",
      "photoUrl": "",
      "userId": "15659096259355675214"
     },
     "user_tz": 420
    },
    "id": "3h-b8lhRG_I5",
    "outputId": "8a549a49-5a36-4139-b4ae-cb9bdba810ae"
   },
   "outputs": [
    {
     "data": {
      "text/plain": [
       "<matplotlib.image.AxesImage at 0x7fcb34648710>"
      ]
     },
     "execution_count": 8,
     "metadata": {},
     "output_type": "execute_result"
    },
    {
     "data": {
      "image/png": "[encoded data removed]",
      "text/plain": [
       "<Figure size 432x288 with 1 Axes>"
      ]
     },
     "metadata": {
      "needs_background": "light"
     },
     "output_type": "display_data"
    }
   ],
   "source": [
    "seq = np.concatenate([*train[0]], axis=1)\n",
    "plt.imshow(seq)\n",
    "\n",
    "#Alternatively\n",
    "def plot_sprites(x):\n",
    "  fig, axes = plt.subplots(1, len(x))\n",
    "\n",
    "  for i, ax in enumerate(axes):\n",
    "    _ = ax.imshow(x[i])\n",
    "    ax.axis('off')\n",
    "  \n",
    "  return fig, axes\n",
    "#fig, axes = plot_sprites(train[0])\n",
    "\n"
   ]
  },
  {
   "cell_type": "code",
   "execution_count": 9,
   "metadata": {
    "colab": {
     "base_uri": "https://localhost:8080/",
     "height": 34
    },
    "colab_type": "code",
    "executionInfo": {
     "elapsed": 368,
     "status": "ok",
     "timestamp": 1571320222068,
     "user": {
      "displayName": "Jerome Ku",
      "photoUrl": "",
      "userId": "15659096259355675214"
     },
     "user_tz": 420
    },
    "id": "Uea9KV0sYe56",
    "outputId": "1c3616e9-7f08-43a0-f720-f22e19462b1e"
   },
   "outputs": [
    {
     "data": {
      "text/plain": [
       "Sprites(length=8, frame_size=64, channels=3)"
      ]
     },
     "execution_count": 9,
     "metadata": {},
     "output_type": "execute_result"
    }
   ],
   "source": [
    "Sprites = namedtuple('Sprites', ['length', 'frame_size', 'channels'])\n",
    "sprites = Sprites(8, 64, 3)\n",
    "sprites"
   ]
  },
  {
   "cell_type": "code",
   "execution_count": 14,
   "metadata": {
    "colab": {
     "base_uri": "https://localhost:8080/",
     "height": 34
    },
    "colab_type": "code",
    "executionInfo": {
     "elapsed": 882,
     "status": "ok",
     "timestamp": 1571320224867,
     "user": {
      "displayName": "Jerome Ku",
      "photoUrl": "",
      "userId": "15659096259355675214"
     },
     "user_tz": 420
    },
    "id": "RWK3TdoJWT4f",
    "outputId": "2f7ae95b-37e1-47f4-ca13-be603a1c9506"
   },
   "outputs": [
    {
     "name": "stdout",
     "output_type": "stream",
     "text": [
      "fatal: destination path 'seqvae' already exists and is not an empty directory.\n"
     ]
    }
   ],
   "source": [
    "!git clone https://github.com/jeromeku/seqvae.git"
   ]
  },
  {
   "cell_type": "code",
   "execution_count": null,
   "metadata": {
    "colab": {},
    "colab_type": "code",
    "id": "AHlTJPtjdJUd"
   },
   "outputs": [],
   "source": [
    "SOURCE_PATH = './seqvae'\n",
    "if not SOURCE_PATH in sys.path:\n",
    "    sys.path.append(SOURCE_PATH)"
   ]
  },
  {
   "cell_type": "code",
   "execution_count": null,
   "metadata": {
    "colab": {},
    "colab_type": "code",
    "id": "3xtclTyEdekX"
   },
   "outputs": [],
   "source": [
    "#!cd seqvae/ && git pull"
   ]
  },
  {
   "cell_type": "code",
   "execution_count": 10,
   "metadata": {
    "colab": {},
    "colab_type": "code",
    "id": "u61KbbardJUh"
   },
   "outputs": [],
   "source": [
    "import disentangled.models as models\n",
    "\n",
    "from disentangled.flags import FLAGS\n",
    "FLAGS.mark_as_parsed()\n",
    "from disentangled.summary import visualize_reconstruction, visualize_qualitative_analysis, image_summary, summarize_dist_params, summarize_mean_in_nats_and_bits"
   ]
  },
  {
   "cell_type": "code",
   "execution_count": 11,
   "metadata": {
    "colab": {},
    "colab_type": "code",
    "id": "HqqCxON3dJUn"
   },
   "outputs": [],
   "source": [
    "#Build model\n",
    "model = models.DisentangledSequentialVAE(\n",
    "      latent_size_static=FLAGS.latent_size_static,\n",
    "      latent_size_dynamic=FLAGS.latent_size_dynamic,\n",
    "      hidden_size=FLAGS.hidden_size, channels=sprites.channels,\n",
    "      latent_posterior=FLAGS.latent_posterior)"
   ]
  },
  {
   "cell_type": "code",
   "execution_count": 12,
   "metadata": {
    "colab": {},
    "colab_type": "code",
    "id": "Na6uoJNvdJUq"
   },
   "outputs": [],
   "source": [
    "#Optimizer and learning rate schedule\n",
    "step = tf.Variable(0, dtype=tf.int64, trainable=False) \n",
    "schedule = tf.compat.v1.train.cosine_decay(FLAGS.learning_rate, step, FLAGS.max_steps)\n",
    "optimizer = tf.keras.optimizers.Adam(schedule)"
   ]
  },
  {
   "cell_type": "code",
   "execution_count": 13,
   "metadata": {
    "colab": {
     "base_uri": "https://localhost:8080/",
     "height": 87
    },
    "colab_type": "code",
    "executionInfo": {
     "elapsed": 3472,
     "status": "ok",
     "timestamp": 1571322930716,
     "user": {
      "displayName": "Jerome Ku",
      "photoUrl": "",
      "userId": "15659096259355675214"
     },
     "user_tz": 420
    },
    "id": "v2ruokjndJUt",
    "outputId": "42c40d98-2d62-4f98-a2d2-3d7d32751d5e"
   },
   "outputs": [],
   "source": [
    "#GCS housekeeping\n",
    "CLEAN = False\n",
    "\n",
    "if CLEAN:\n",
    "  !gsutil rm -r {bucket_name}/logs {bucket_name}/tf_ckpts\n"
   ]
  },
  {
   "cell_type": "code",
   "execution_count": 22,
   "metadata": {
    "colab": {},
    "colab_type": "code",
    "id": "wYRpTbXtGB-p"
   },
   "outputs": [
    {
     "ename": "PermissionDeniedError",
     "evalue": "Error executing an HTTP request: HTTP response code 401 with body '{\n  \"error\": {\n    \"code\": 401,\n    \"message\": \"Anonymous caller does not have storage.objects.list access to jeromeku-seqvae-colab.\",\n    \"errors\": [\n      {\n        \"message\": \"Anonymous caller does not have storage.objects.list access to jeromeku-seqvae-colab.\",\n        \"domain\": \"global\",\n        \"reason\": \"required\",\n        \"locationType\": \"header\",\n        \"location\": \"Authorization\"\n      }\n    ]\n  }\n}\n'\n\t when reading gs://jeromeku-seqvae-colab/logs/191017_135952/train/ [Op:CreateSummaryFileWriter]",
     "output_type": "error",
     "traceback": [
      "\u001b[0;31m---------------------------------------------------------------------------\u001b[0m",
      "\u001b[0;31mPermissionDeniedError\u001b[0m                     Traceback (most recent call last)",
      "\u001b[0;32m<ipython-input-22-8bbdf6a82cf9>\u001b[0m in \u001b[0;36m<module>\u001b[0;34m\u001b[0m\n\u001b[1;32m      2\u001b[0m \u001b[0mtimestamp\u001b[0m \u001b[0;34m=\u001b[0m \u001b[0mdatetime\u001b[0m\u001b[0;34m.\u001b[0m\u001b[0mstrftime\u001b[0m\u001b[0;34m(\u001b[0m\u001b[0mdatetime\u001b[0m\u001b[0;34m.\u001b[0m\u001b[0mtoday\u001b[0m\u001b[0;34m(\u001b[0m\u001b[0;34m)\u001b[0m\u001b[0;34m,\u001b[0m \u001b[0;34m\"%y%m%d_%H%M%S\"\u001b[0m\u001b[0;34m)\u001b[0m\u001b[0;34m\u001b[0m\u001b[0;34m\u001b[0m\u001b[0m\n\u001b[1;32m      3\u001b[0m \u001b[0mlogdir\u001b[0m \u001b[0;34m=\u001b[0m \u001b[0mos\u001b[0m\u001b[0;34m.\u001b[0m\u001b[0mpath\u001b[0m\u001b[0;34m.\u001b[0m\u001b[0mjoin\u001b[0m\u001b[0;34m(\u001b[0m\u001b[0mbucket_name\u001b[0m\u001b[0;34m,\u001b[0m \u001b[0;34m'logs'\u001b[0m\u001b[0;34m,\u001b[0m\u001b[0;34m)\u001b[0m\u001b[0;34m\u001b[0m\u001b[0;34m\u001b[0m\u001b[0m\n\u001b[0;32m----> 4\u001b[0;31m \u001b[0mfile_writer\u001b[0m \u001b[0;34m=\u001b[0m \u001b[0mtf\u001b[0m\u001b[0;34m.\u001b[0m\u001b[0msummary\u001b[0m\u001b[0;34m.\u001b[0m\u001b[0mcreate_file_writer\u001b[0m\u001b[0;34m(\u001b[0m\u001b[0mos\u001b[0m\u001b[0;34m.\u001b[0m\u001b[0mpath\u001b[0m\u001b[0;34m.\u001b[0m\u001b[0mjoin\u001b[0m\u001b[0;34m(\u001b[0m\u001b[0mlogdir\u001b[0m\u001b[0;34m,\u001b[0m \u001b[0mtimestamp\u001b[0m\u001b[0;34m,\u001b[0m \u001b[0;34m'train'\u001b[0m\u001b[0;34m)\u001b[0m\u001b[0;34m)\u001b[0m\u001b[0;34m\u001b[0m\u001b[0;34m\u001b[0m\u001b[0m\n\u001b[0m\u001b[1;32m      5\u001b[0m \u001b[0mfile_writer\u001b[0m\u001b[0;34m.\u001b[0m\u001b[0mset_as_default\u001b[0m\u001b[0;34m(\u001b[0m\u001b[0;34m)\u001b[0m\u001b[0;34m\u001b[0m\u001b[0;34m\u001b[0m\u001b[0m\n",
      "\u001b[0;32m~/miniconda3/lib/python3.6/site-packages/tensorflow_core/python/ops/summary_ops_v2.py\u001b[0m in \u001b[0;36mcreate_file_writer_v2\u001b[0;34m(logdir, max_queue, flush_millis, filename_suffix, name)\u001b[0m\n\u001b[1;32m    389\u001b[0m               filename_suffix=filename_suffix),\n\u001b[1;32m    390\u001b[0m           \u001b[0mname\u001b[0m\u001b[0;34m=\u001b[0m\u001b[0mname\u001b[0m\u001b[0;34m,\u001b[0m\u001b[0;34m\u001b[0m\u001b[0;34m\u001b[0m\u001b[0m\n\u001b[0;32m--> 391\u001b[0;31m           v2=True)\n\u001b[0m\u001b[1;32m    392\u001b[0m \u001b[0;34m\u001b[0m\u001b[0m\n\u001b[1;32m    393\u001b[0m \u001b[0;34m\u001b[0m\u001b[0m\n",
      "\u001b[0;32m~/miniconda3/lib/python3.6/site-packages/tensorflow_core/python/ops/summary_ops_v2.py\u001b[0m in \u001b[0;36m__init__\u001b[0;34m(self, shared_name, init_op_fn, name, v2)\u001b[0m\n\u001b[1;32m    211\u001b[0m     \u001b[0;31m# TODO(nickfelt): cache other constructed ops in graph mode\u001b[0m\u001b[0;34m\u001b[0m\u001b[0;34m\u001b[0m\u001b[0;34m\u001b[0m\u001b[0m\n\u001b[1;32m    212\u001b[0m     \u001b[0mself\u001b[0m\u001b[0;34m.\u001b[0m\u001b[0m_init_op_fn\u001b[0m \u001b[0;34m=\u001b[0m \u001b[0minit_op_fn\u001b[0m\u001b[0;34m\u001b[0m\u001b[0;34m\u001b[0m\u001b[0m\n\u001b[0;32m--> 213\u001b[0;31m     \u001b[0mself\u001b[0m\u001b[0;34m.\u001b[0m\u001b[0m_init_op\u001b[0m \u001b[0;34m=\u001b[0m \u001b[0minit_op_fn\u001b[0m\u001b[0;34m(\u001b[0m\u001b[0mself\u001b[0m\u001b[0;34m.\u001b[0m\u001b[0m_resource\u001b[0m\u001b[0;34m)\u001b[0m\u001b[0;34m\u001b[0m\u001b[0;34m\u001b[0m\u001b[0m\n\u001b[0m\u001b[1;32m    214\u001b[0m     \u001b[0mself\u001b[0m\u001b[0;34m.\u001b[0m\u001b[0m_v2\u001b[0m \u001b[0;34m=\u001b[0m \u001b[0mv2\u001b[0m\u001b[0;34m\u001b[0m\u001b[0;34m\u001b[0m\u001b[0m\n\u001b[1;32m    215\u001b[0m     \u001b[0mself\u001b[0m\u001b[0;34m.\u001b[0m\u001b[0m_closed\u001b[0m \u001b[0;34m=\u001b[0m \u001b[0;32mFalse\u001b[0m\u001b[0;34m\u001b[0m\u001b[0;34m\u001b[0m\u001b[0m\n",
      "\u001b[0;32m~/miniconda3/lib/python3.6/site-packages/tensorflow_core/python/ops/gen_summary_ops.py\u001b[0m in \u001b[0;36mcreate_summary_file_writer\u001b[0;34m(writer, logdir, max_queue, flush_millis, filename_suffix, name)\u001b[0m\n\u001b[1;32m    190\u001b[0m       \u001b[0;32melse\u001b[0m\u001b[0;34m:\u001b[0m\u001b[0;34m\u001b[0m\u001b[0;34m\u001b[0m\u001b[0m\n\u001b[1;32m    191\u001b[0m         \u001b[0mmessage\u001b[0m \u001b[0;34m=\u001b[0m \u001b[0me\u001b[0m\u001b[0;34m.\u001b[0m\u001b[0mmessage\u001b[0m\u001b[0;34m\u001b[0m\u001b[0;34m\u001b[0m\u001b[0m\n\u001b[0;32m--> 192\u001b[0;31m       \u001b[0m_six\u001b[0m\u001b[0;34m.\u001b[0m\u001b[0mraise_from\u001b[0m\u001b[0;34m(\u001b[0m\u001b[0m_core\u001b[0m\u001b[0;34m.\u001b[0m\u001b[0m_status_to_exception\u001b[0m\u001b[0;34m(\u001b[0m\u001b[0me\u001b[0m\u001b[0;34m.\u001b[0m\u001b[0mcode\u001b[0m\u001b[0;34m,\u001b[0m \u001b[0mmessage\u001b[0m\u001b[0;34m)\u001b[0m\u001b[0;34m,\u001b[0m \u001b[0;32mNone\u001b[0m\u001b[0;34m)\u001b[0m\u001b[0;34m\u001b[0m\u001b[0;34m\u001b[0m\u001b[0m\n\u001b[0m\u001b[1;32m    193\u001b[0m   \u001b[0;31m# Add nodes to the TensorFlow graph.\u001b[0m\u001b[0;34m\u001b[0m\u001b[0;34m\u001b[0m\u001b[0;34m\u001b[0m\u001b[0m\n\u001b[1;32m    194\u001b[0m   _, _, _op = _op_def_lib._apply_op_helper(\n",
      "\u001b[0;32m~/miniconda3/lib/python3.6/site-packages/six.py\u001b[0m in \u001b[0;36mraise_from\u001b[0;34m(value, from_value)\u001b[0m\n",
      "\u001b[0;31mPermissionDeniedError\u001b[0m: Error executing an HTTP request: HTTP response code 401 with body '{\n  \"error\": {\n    \"code\": 401,\n    \"message\": \"Anonymous caller does not have storage.objects.list access to jeromeku-seqvae-colab.\",\n    \"errors\": [\n      {\n        \"message\": \"Anonymous caller does not have storage.objects.list access to jeromeku-seqvae-colab.\",\n        \"domain\": \"global\",\n        \"reason\": \"required\",\n        \"locationType\": \"header\",\n        \"location\": \"Authorization\"\n      }\n    ]\n  }\n}\n'\n\t when reading gs://jeromeku-seqvae-colab/logs/191017_135952/train/ [Op:CreateSummaryFileWriter]"
     ]
    }
   ],
   "source": [
    "#Tensorboard  \n",
    "timestamp = datetime.strftime(datetime.today(), \"%y%m%d_%H%M%S\")\n",
    "logdir = os.path.join(bucket_name, 'logs',)\n",
    "file_writer = tf.summary.create_file_writer(os.path.join(logdir, timestamp, 'train'))\n",
    "file_writer.set_as_default()"
   ]
  },
  {
   "cell_type": "code",
   "execution_count": 16,
   "metadata": {
    "colab": {},
    "colab_type": "code",
    "id": "EHLJ9YeadJUw"
   },
   "outputs": [],
   "source": [
    "#Checkpointing\n",
    "checkpoint = tf.train.Checkpoint(step=step, optimizer=optimizer, net=model)\n",
    "ckpt_manager = tf.train.CheckpointManager(checkpoint, os.path.join(bucket_name, 'tf_ckpts', timestamp), max_to_keep=3)"
   ]
  },
  {
   "cell_type": "code",
   "execution_count": 39,
   "metadata": {
    "colab": {
     "base_uri": "https://localhost:8080/",
     "height": 123
    },
    "colab_type": "code",
    "executionInfo": {
     "elapsed": 1888,
     "status": "ok",
     "timestamp": 1571323182150,
     "user": {
      "displayName": "Jerome Ku",
      "photoUrl": "",
      "userId": "15659096259355675214"
     },
     "user_tz": 420
    },
    "id": "kBs-PJXbDKlF",
    "outputId": "bd355d1e-509c-4745-c0cb-e3b529ea7fa5"
   },
   "outputs": [
    {
     "name": "stdout",
     "output_type": "stream",
     "text": [
      "gs://jeromeku-seqvae-colab/test.npz\n",
      "gs://jeromeku-seqvae-colab/train.npz\n",
      "\n",
      "gs://jeromeku-seqvae-colab/logs/:\n",
      "gs://jeromeku-seqvae-colab/logs/191017_143935/\n",
      "gs://jeromeku-seqvae-colab/logs/train_data/\n"
     ]
    }
   ],
   "source": [
    "!gsutil ls {bucket_name}/*\n"
   ]
  },
  {
   "cell_type": "code",
   "execution_count": null,
   "metadata": {
    "colab": {},
    "colab_type": "code",
    "id": "Z_cPVUGfc7JG"
   },
   "outputs": [],
   "source": [
    "def train_step(*, model, optimizer, train_ds, test_ds, FLAGS, writer, checkpoint, checkpoint_manager):\n",
    "    if checkpoint_manager.latest_checkpoint:\n",
    "        checkpoint.restore(checkpoint_manager.latest_checkpoint)\n",
    "        print(f\"Restored from {checkpoint_manager.latest_checkpoint}\")\n",
    "    else:\n",
    "        print(\"Initializing from scratch\")\n",
    "        \n",
    "    step = checkpoint.step\n",
    "    \n",
    "    for inputs in train_ds.prefetch(buffer_size=None):\n",
    "        with tf.compat.v2.summary.record_if(\n",
    "            lambda: tf.math.equal(0, step % FLAGS.log_steps)\n",
    "        ):\n",
    "            tf.compat.v2.summary.histogram(\"image\", data=inputs, step=step)\n",
    "\n",
    "        with tf.GradientTape() as tape:\n",
    "            features = model.compressor(inputs)  # (batch, timesteps, hidden)\n",
    "            static_sample, static_posterior = model.sample_static_posterior(\n",
    "                features, FLAGS.num_samples\n",
    "            )  # (samples, batch, latent)\n",
    "            dynamic_sample, dynamic_posterior = model.sample_dynamic_posterior(\n",
    "                features, FLAGS.num_samples, static_sample\n",
    "            )  # (sampl, N, T, latent)\n",
    "            likelihood = model.decoder((dynamic_sample, static_sample))\n",
    "\n",
    "            reconstruction = tf.reduce_mean(  # integrate samples\n",
    "                input_tensor=likelihood.mean()[: FLAGS.num_reconstruction_samples],\n",
    "                axis=0,\n",
    "            )\n",
    "            visualize_reconstruction(\n",
    "                inputs, reconstruction, step, name=\"train_reconstruction\"\n",
    "            )\n",
    "\n",
    "            static_prior = model.static_prior()\n",
    "            _, dynamic_prior = model.sample_dynamic_prior(\n",
    "                FLAGS.num_samples, FLAGS.batch_size, sprites.length\n",
    "            )\n",
    "\n",
    "            if FLAGS.enable_debug_logging:\n",
    "                summarize_dist_params(static_prior, \"static_prior\", step)\n",
    "                summarize_dist_params(static_posterior, \"static_posterior\", step)\n",
    "                summarize_dist_params(dynamic_prior, \"dynamic_prior\", step)\n",
    "                summarize_dist_params(dynamic_posterior, \"dynamic_posterior\", step)\n",
    "                summarize_dist_params(likelihood, \"likelihood\", step)\n",
    "\n",
    "            static_prior_log_prob = static_prior.log_prob(static_sample)\n",
    "            static_posterior_log_prob = static_posterior.log_prob(static_sample)\n",
    "            dynamic_prior_log_prob = tf.reduce_sum(\n",
    "                input_tensor=dynamic_prior.log_prob(dynamic_sample), axis=-1\n",
    "            )  # sum time\n",
    "            dynamic_posterior_log_prob = tf.reduce_sum(\n",
    "                input_tensor=dynamic_posterior.log_prob(dynamic_sample), axis=-1\n",
    "            )  # sum time\n",
    "            likelihood_log_prob = tf.reduce_sum(\n",
    "                input_tensor=likelihood.log_prob(inputs), axis=-1\n",
    "            )  # sum time\n",
    "\n",
    "            if FLAGS.enable_debug_logging:\n",
    "                with tf.compat.v1.name_scope(\"log_probs\"):\n",
    "                    summarize_mean_in_nats_and_bits(\n",
    "                        static_prior_log_prob, FLAGS.latent_size_static, \"static_prior\", step\n",
    "                    )\n",
    "                    summarize_mean_in_nats_and_bits(\n",
    "                        static_posterior_log_prob,\n",
    "                        FLAGS.latent_size_static,\n",
    "                        \"static_posterior\", step\n",
    "                    )\n",
    "                    summarize_mean_in_nats_and_bits(\n",
    "                        dynamic_prior_log_prob,\n",
    "                        FLAGS.latent_size_dynamic * sprites.length,\n",
    "                        \"dynamic_prior\", step\n",
    "                    )\n",
    "                    summarize_mean_in_nats_and_bits(\n",
    "                        dynamic_posterior_log_prob,\n",
    "                        FLAGS.latent_size_dynamic * sprites.length,\n",
    "                        \"dynamic_posterior\", step\n",
    "                    )\n",
    "                    summarize_mean_in_nats_and_bits(\n",
    "                        likelihood_log_prob,\n",
    "                        sprites.frame_size ** 2\n",
    "                        * sprites.channels\n",
    "                        * sprites.length,\n",
    "                        \"likelihood\", step\n",
    "                    )\n",
    "\n",
    "            elbo = tf.reduce_mean(\n",
    "                input_tensor=static_prior_log_prob\n",
    "                - static_posterior_log_prob\n",
    "                + dynamic_prior_log_prob\n",
    "                - dynamic_posterior_log_prob\n",
    "                + likelihood_log_prob\n",
    "            )\n",
    "            loss = -elbo\n",
    "            tf.compat.v2.summary.scalar(\"elbo\", elbo, step=step)\n",
    "\n",
    "        grads = tape.gradient(loss, model.variables)\n",
    "        grads, global_norm = tf.clip_by_global_norm(grads, FLAGS.clip_norm)\n",
    "        grads_and_vars = list(zip(grads, model.variables))  # allow reuse in py3\n",
    "        if FLAGS.enable_debug_logging:\n",
    "            with tf.compat.v1.name_scope(\"grads\"):\n",
    "                tf.compat.v2.summary.scalar(\"global_norm_grads\", global_norm, step=step)\n",
    "                tf.compat.v2.summary.scalar(\n",
    "                    \"global_norm_grads_clipped\", tf.linalg.global_norm(grads), step=step\n",
    "                )\n",
    "            for grad, var in grads_and_vars:\n",
    "                with tf.compat.v1.name_scope(\"grads\"):\n",
    "                    tf.compat.v2.summary.histogram(\n",
    "                        \"{}/grad\".format(var.name), data=grad, step=step\n",
    "                    )\n",
    "                with tf.compat.v1.name_scope(\"vars\"):\n",
    "                    tf.compat.v2.summary.histogram(var.name, data=var, step=step)\n",
    "        optimizer.apply_gradients(grads_and_vars)\n",
    "\n",
    "        is_log_step = step.numpy() % FLAGS.log_steps == 0\n",
    "        is_final_step = step.numpy() == FLAGS.max_steps\n",
    "        if is_log_step or is_final_step:\n",
    "            checkpoint_manager.save()\n",
    "            print(\"ELBO ({}/{}): {}\".format(step.numpy(), FLAGS.max_steps, elbo.numpy()))\n",
    "            with tf.compat.v2.summary.record_if(True):\n",
    "                val_data = test_ds.take(20)\n",
    "                inputs = next(iter(val_data.shuffle(20).batch(3)))\n",
    "                visualize_qualitative_analysis(\n",
    "                    inputs, model, step, FLAGS.num_reconstruction_samples\n",
    "                )\n",
    "        step.assign_add(1)\n",
    "        writer.flush()\n"
   ]
  },
  {
   "cell_type": "code",
   "execution_count": null,
   "metadata": {
    "colab": {
     "base_uri": "https://localhost:8080/",
     "height": 34
    },
    "colab_type": "code",
    "id": "ssKLS1-F3Uzl",
    "outputId": "0494825a-5309-4d40-eb58-b51bf784a631"
   },
   "outputs": [],
   "source": [
    "FLAGS.enable_debug_logging = True\n",
    "FLAGS.batch_size = 32 #default 32\n",
    "FLAGS.max_steps = 1000 #default 10000\n",
    "FLAGS.log_steps = 10\n",
    "train_ds = train_ds.shuffle(1000).repeat()\n",
    "train_set = train_ds.batch(FLAGS.batch_size).take(FLAGS.max_steps)\n",
    "test_set = test_ds"
   ]
  },
  {
   "cell_type": "code",
   "execution_count": null,
   "metadata": {
    "colab": {
     "base_uri": "https://localhost:8080/",
     "height": 34
    },
    "colab_type": "code",
    "id": "ssKLS1-F3Uzl",
    "outputId": "0494825a-5309-4d40-eb58-b51bf784a631"
   },
   "outputs": [
    {
     "name": "stdout",
     "output_type": "stream",
     "text": [
      "ELBO (0/1000): -93402.8984375\n"
     ]
    }
   ],
   "source": [
    "train_step(model=model, optimizer=optimizer, train_ds=train_set, test_ds=test_set, FLAGS=FLAGS, writer=file_writer, checkpoint_manager=ckpt_manager)"
   ]
  },
  {
   "cell_type": "code",
   "execution_count": null,
   "metadata": {
    "colab": {},
    "colab_type": "code",
    "id": "0BQMcRFJFmJv"
   },
   "outputs": [],
   "source": []
  }
 ],
 "metadata": {
  "accelerator": "GPU",
  "colab": {
   "collapsed_sections": [],
   "name": "Copy of Copy of seq_vae_colab.ipynb",
   "provenance": [
    {
     "file_id": "1MK7xpsng1FwDS1Ry1qOu9mCD6ab7BRKF",
     "timestamp": 1571313719320
    },
    {
     "file_id": "https://github.com/jeromeku/seqvae/blob/master/seq_vae_colab.ipynb",
     "timestamp": 1571304778525
    }
   ]
  },
  "file_extension": ".py",
  "kernelspec": {
   "display_name": "Python 3",
   "language": "python",
   "name": "python3"
  },
  "language_info": {
   "codemirror_mode": {
    "name": "ipython",
    "version": 3
   },
   "file_extension": ".py",
   "mimetype": "text/x-python",
   "name": "python",
   "nbconvert_exporter": "python",
   "pygments_lexer": "ipython3",
   "version": "3.6.8"
  },
  "mimetype": "text/x-python",
  "name": "python",
  "npconvert_exporter": "python",
  "pygments_lexer": "ipython3",
  "version": 3
 },
 "nbformat": 4,
 "nbformat_minor": 4
}
